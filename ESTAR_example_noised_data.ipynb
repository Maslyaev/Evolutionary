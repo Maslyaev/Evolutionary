{
 "cells": [
  {
   "cell_type": "code",
   "execution_count": 1,
   "metadata": {},
   "outputs": [],
   "source": [
    "import numpy as np\n",
    "import collections\n",
    "import os\n",
    "\n",
    "path = os.path.abspath(os.getcwd())\n",
    "\n",
    "from prep.derivatives import Preprocess_derivatives\n",
    "\n",
    "from src.supplementary import Define_Derivatives\n",
    "from src.term import normalize_ts, Term\n",
    "from src.trainer import Equation_Trainer"
   ]
  },
  {
   "cell_type": "markdown",
   "metadata": {},
   "source": [
    "Задаём функцию, позволяющую оценивать значений слагаемых уравнения. Это исполнение использует тензоры значений токенов на сетке и через поэлементное умножение тензоры, получает значения слагаемого. Далее, тензор преобразуется в вектор для использования в качестве признака в регрессии. "
   ]
  },
  {
   "cell_type": "code",
   "execution_count": 2,
   "metadata": {},
   "outputs": [],
   "source": [
    "def derivative_evaluator(term, eval_params):\n",
    "    assert 'token_matrices' in eval_params and 'max_power' in eval_params\n",
    "    if type(term) == Term:\n",
    "        term = term.gene\n",
    "    token_matrices = eval_params['token_matrices']\n",
    "    value = np.copy(token_matrices[0])\n",
    "    for var_idx in np.arange(eval_params['max_power'], term.shape[0], eval_params['max_power']):\n",
    "        power = (np.sum(term[var_idx : var_idx + eval_params['max_power']]))\n",
    "        value *= eval_params['token_matrices'][int(var_idx / float(eval_params['max_power']))] ** int(power)\n",
    "    value = normalize_ts(value)\n",
    "    value = value.reshape(np.prod(value.shape))\n",
    "    return value    "
   ]
  },
  {
   "cell_type": "markdown",
   "metadata": {},
   "source": [
    "Проводим препроцессинг данных и вычисляем значения производных на сетке. Вычисления довольно трудоёмкие => распараллелены, но всё равно могут занять относительно много времени, особенно если считать на ПК. Результаты препроцессинга сохраняем в отдельный файл, чтобы использовать при повторных запусках основного алгоритма. Это экономит время! Для примера используется решение волнового уравнения с белым шумом.\n",
    "<br>\n",
    "В этом примере мы рассмотрим задачу поиска уравнения по синтетическим данным, полученным из решения волнового уравнения: \n",
    "<br>\n",
    "$\\frac{\\partial^2 u}{\\partial t^2} = \\frac{\\partial^2 u}{\\partial x_1^2} + \\frac{\\partial^2 u}{\\partial x_2^2}$,\n",
    "<br>\n",
    "которое отражает эволюцию некоторой величины $u$ в двумерной области. Во входные данные, для большего сходства эксперимента с ситуацией из реальности, добавлен белый шум. "
   ]
  },
  {
   "cell_type": "code",
   "execution_count": null,
   "metadata": {},
   "outputs": [],
   "source": [
    "output_file_name = path + '/Preprocessing/Derivatives.npy'\n",
    "filename =  path + '/Preprocessing/wave_noised.npy' \n",
    "poolsize = 4\n",
    "\n",
    "field = np.load(filename)\n",
    "Preprocess_derivatives(field, output_file_name, mp_poolsize=poolsize)"
   ]
  },
  {
   "cell_type": "markdown",
   "metadata": {},
   "source": [
    "Загружаем значения в узлах сетки для исходной функции и её производных; из них формируем тензор для дальнейшего использования. Также задаём границы области, по которому будет вычисляться уравнение (в примере - обрезаем начало и конец временного ряда + по 15 элементов с каждой границы, чтобы использовать более \"качественные\" производные)"
   ]
  },
  {
   "cell_type": "code",
   "execution_count": 13,
   "metadata": {},
   "outputs": [],
   "source": [
    "u_initial = np.load(path + '/Preprocessing/wave_noised.npy')\n",
    "derivatives = np.load(path + '/Preprocessing/Derivatives.npy')\n",
    "variables = np.ones((2 + derivatives.shape[1], ) + u_initial.shape)\n",
    "variables[1, :] = u_initial\n",
    "for i_outer in range(0, derivatives.shape[1]):\n",
    "    variables[i_outer+2] = derivatives[:, i_outer].reshape(variables[i_outer+2].shape) \n",
    "    \n",
    "skipped_elems = 10 \n",
    "variables = variables[:, skipped_elems:-skipped_elems, skipped_elems:-skipped_elems, skipped_elems:-skipped_elems]"
   ]
  },
  {
   "cell_type": "markdown",
   "metadata": {},
   "source": [
    "Получаем названия токенов для производных, используя функцию **Define_Derivatives()**. Она получает названия токенов в порядке: 1, u, $\\frac{\\partial u}{\\partial x_1}$, $\\frac{\\partial^2 u}{\\partial x_1^2}$, ... , $\\frac{\\partial u}{\\partial x_2}$, $\\frac{\\partial^2 u}{\\partial x_2^2}$, ..."
   ]
  },
  {
   "cell_type": "code",
   "execution_count": 9,
   "metadata": {},
   "outputs": [
    {
     "name": "stdout",
     "output_type": "stream",
     "text": [
      "('1', 'u', 'du/dx1', 'd^2u/dx1^2', 'du/dx2', 'd^2u/dx2^2', 'du/dx3', 'd^2u/dx3^2')\n"
     ]
    }
   ],
   "source": [
    "token_names = Define_Derivatives(u_initial.ndim, max_order = 2)\n",
    "print(token_names)"
   ]
  },
  {
   "cell_type": "markdown",
   "metadata": {},
   "source": [
    "Задаём объект для обучения уравнения:"
   ]
  },
  {
   "cell_type": "code",
   "execution_count": 5,
   "metadata": {},
   "outputs": [],
   "source": [
    "Trainer = Equation_Trainer(token_list=token_names, evaluator = derivative_evaluator, \n",
    "                           evaluator_params={'token_matrices':variables})"
   ]
  },
  {
   "cell_type": "markdown",
   "metadata": {},
   "source": [
    "Так как мы не знаем, какой параметр $\\alpha$ - коэффициент регуляризации в LASSO, позволяет получить правильную структуру уравнения, мы проводим запуск по сетке из гиперпараметров модели. Сетка в примере строится только по одному параметру ($\\alpha$), но в общем виде допустимо задавать сетки сразу по нескольким. Для остальные гиперпараметров модели задаём соответствующие значения. В случае, если каждый параметр задаётся одним значением, то их допустимо подавать сразу в метод Train.  "
   ]
  },
  {
   "cell_type": "code",
   "execution_count": 6,
   "metadata": {},
   "outputs": [],
   "source": [
    "Trainer.Parameters_grid(('alpha', 'a_proc', 'r_crossover', 'r_mutation', 'mut_chance', 'pop_size', 'eq_len'), \n",
    "                        (0.001, 0.1, 3), 0.2, 0.6, 0.5, 1.0, 10, 6)"
   ]
  },
  {
   "cell_type": "markdown",
   "metadata": {},
   "source": [
    "Запускаем обучение и получаем искомое уравнение в символьной форме"
   ]
  },
  {
   "cell_type": "code",
   "execution_count": 7,
   "metadata": {},
   "outputs": [
    {
     "name": "stdout",
     "output_type": "stream",
     "text": [
      "Using parameters from grid\n",
      "in \"process cell\" function:  <class 'tuple'> ('1', 'u', 'du/dx1', 'd^2u/dx1^2', 'du/dx2', 'd^2u/dx2^2', 'du/dx3', 'd^2u/dx3^2')\n",
      "[1. 0. 0. 0. 0. 0. 0. 0. 0. 0. 0. 0. 0. 0. 0. 0.] [1. 0. 1. 0. 0. 0. 0. 0. 0. 0. 0. 0. 0. 0. 0. 0.] [1. 0. 0. 0. 0. 0. 0. 0. 0. 0. 0. 0. 0. 0. 1. 1.]\n",
      "Population for evolutionary algorithm initialized\n",
      "Values of main selected parameters:\n",
      "population size: 10 , r_crossover: 0.6 , r_mutation: 0.5\n",
      "Alpha: 0.001\n",
      "Achieved best fitness: 0.0132902017223155\n",
      "Final gene: [1. 0. 0. 0. 0. 0. 1. 0. 0. 0. 0. 0. 0. 0. 0. 0.]\n",
      "0.0132902017223155 {'1': 1, 'u': 0, 'du/dx1': 0, 'd^2u/dx1^2': 1, 'du/dx2': 0, 'd^2u/dx2^2': 0, 'du/dx3': 0, 'd^2u/dx3^2': 0}\n",
      "weights: [ 0.         -0.14186451  0.51295421 -0.03489448  0.51288273]\n",
      "result: ((datetime.datetime(2020, 2, 26, 16, 56, 49, 328405), datetime.datetime(2020, 2, 26, 17, 9, 25, 658232)), ({'1': 1, 'u': 0, 'du/dx1': 0, 'd^2u/dx1^2': 1, 'du/dx2': 0, 'd^2u/dx2^2': 0, 'du/dx3': 0, 'd^2u/dx3^2': 0}, [({'1': 1, 'u': 1, 'du/dx1': 0, 'd^2u/dx1^2': 0, 'du/dx2': 0, 'd^2u/dx2^2': 0, 'du/dx3': 0, 'd^2u/dx3^2': 0}, -0.14609550471684604), ({'1': 1, 'u': 0, 'du/dx1': 0, 'd^2u/dx1^2': 0, 'du/dx2': 0, 'd^2u/dx2^2': 1, 'du/dx3': 0, 'd^2u/dx3^2': 0}, 0.5158811877032277), ({'1': 1, 'u': 1, 'du/dx1': 1, 'd^2u/dx1^2': 0, 'du/dx2': 0, 'd^2u/dx2^2': 0, 'du/dx3': 0, 'd^2u/dx3^2': 0}, -0.04423059911494759), ({'1': 1, 'u': 0, 'du/dx1': 0, 'd^2u/dx1^2': 0, 'du/dx2': 0, 'd^2u/dx2^2': 0, 'du/dx3': 0, 'd^2u/dx3^2': 1}, 0.515881187703231)]))\n",
      "in \"process cell\" function:  <class 'tuple'> ('1', 'u', 'du/dx1', 'd^2u/dx1^2', 'du/dx2', 'd^2u/dx2^2', 'du/dx3', 'd^2u/dx3^2')\n",
      "[1. 0. 0. 0. 0. 0. 0. 0. 0. 0. 0. 0. 0. 0. 0. 0.] [1. 0. 1. 0. 0. 0. 0. 0. 0. 0. 0. 0. 0. 0. 0. 0.] [1. 0. 0. 0. 0. 0. 0. 0. 0. 0. 0. 0. 0. 0. 1. 0.]\n",
      "Population for evolutionary algorithm initialized\n",
      "Values of main selected parameters:\n",
      "population size: 10 , r_crossover: 0.6 , r_mutation: 0.5\n",
      "Alpha: 0.0505\n",
      "Achieved best fitness: 0.00924731334695349\n",
      "Final gene: [1. 0. 0. 0. 0. 0. 1. 0. 0. 0. 0. 0. 0. 0. 0. 0.]\n",
      "0.00924731334695349 {'1': 1, 'u': 0, 'du/dx1': 0, 'd^2u/dx1^2': 1, 'du/dx2': 0, 'd^2u/dx2^2': 0, 'du/dx3': 0, 'd^2u/dx3^2': 0}\n",
      "weights: [ 0.         -0.2736432   0.29139735  0.29137052 -0.        ]\n",
      "result: ((datetime.datetime(2020, 2, 26, 17, 9, 25, 665160), datetime.datetime(2020, 2, 26, 17, 19, 53, 871730)), ({'1': 1, 'u': 0, 'du/dx1': 0, 'd^2u/dx1^2': 1, 'du/dx2': 0, 'd^2u/dx2^2': 0, 'du/dx3': 0, 'd^2u/dx3^2': 0}, [({'1': 1, 'u': 1, 'du/dx1': 0, 'd^2u/dx1^2': 0, 'du/dx2': 0, 'd^2u/dx2^2': 0, 'du/dx3': 0, 'd^2u/dx3^2': 0}, -0.11018807219054799), ({'1': 1, 'u': 0, 'du/dx1': 0, 'd^2u/dx1^2': 0, 'du/dx2': 0, 'd^2u/dx2^2': 0, 'du/dx3': 0, 'd^2u/dx3^2': 1}, 0.5239785590495093), ({'1': 1, 'u': 0, 'du/dx1': 0, 'd^2u/dx1^2': 0, 'du/dx2': 0, 'd^2u/dx2^2': 1, 'du/dx3': 0, 'd^2u/dx3^2': 0}, 0.5239785590495059)]))\n",
      "in \"process cell\" function:  <class 'tuple'> ('1', 'u', 'du/dx1', 'd^2u/dx1^2', 'du/dx2', 'd^2u/dx2^2', 'du/dx3', 'd^2u/dx3^2')\n",
      "[1. 0. 0. 0. 0. 0. 0. 0. 0. 0. 0. 0. 0. 0. 0. 0.] [1. 0. 1. 0. 0. 0. 0. 0. 0. 0. 0. 0. 0. 0. 0. 0.] [1. 0. 0. 0. 0. 0. 0. 0. 0. 0. 1. 0. 0. 0. 0. 0.]\n",
      "Population for evolutionary algorithm initialized\n",
      "Values of main selected parameters:\n",
      "population size: 10 , r_crossover: 0.6 , r_mutation: 0.5\n",
      "Alpha: 0.1\n",
      "Achieved best fitness: 0.005894748436156582\n",
      "Final gene: [1. 0. 0. 0. 0. 0. 1. 0. 0. 0. 0. 0. 0. 0. 0. 0.]\n",
      "0.005894748436156582 {'1': 1, 'u': 0, 'du/dx1': 0, 'd^2u/dx1^2': 1, 'du/dx2': 0, 'd^2u/dx2^2': 0, 'du/dx3': 0, 'd^2u/dx3^2': 0}\n",
      "weights: [ 0.         -0.43386234 -0.          0.06342137  0.06336797]\n",
      "result: ((datetime.datetime(2020, 2, 26, 17, 19, 53, 875264), datetime.datetime(2020, 2, 26, 17, 27, 56, 40685)), ({'1': 1, 'u': 0, 'du/dx1': 0, 'd^2u/dx1^2': 1, 'du/dx2': 0, 'd^2u/dx2^2': 0, 'du/dx3': 0, 'd^2u/dx3^2': 0}, [({'1': 1, 'u': 1, 'du/dx1': 0, 'd^2u/dx1^2': 0, 'du/dx2': 0, 'd^2u/dx2^2': 0, 'du/dx3': 0, 'd^2u/dx3^2': 0}, -0.11018807219054799), ({'1': 1, 'u': 0, 'du/dx1': 0, 'd^2u/dx1^2': 0, 'du/dx2': 0, 'd^2u/dx2^2': 0, 'du/dx3': 0, 'd^2u/dx3^2': 1}, 0.5239785590495093), ({'1': 1, 'u': 0, 'du/dx1': 0, 'd^2u/dx1^2': 0, 'du/dx2': 0, 'd^2u/dx2^2': 1, 'du/dx3': 0, 'd^2u/dx3^2': 0}, 0.5239785590495059)]))\n"
     ]
    }
   ],
   "source": [
    "Trainer.Train(epochs = 200)"
   ]
  },
  {
   "cell_type": "markdown",
   "metadata": {},
   "source": [
    "Получаем структуры уравнения в формате\n",
    "<br>\n",
    "$\\frac{\\partial^2 u}{\\partial t^2} = a_2 \\frac{\\partial^2 u}{\\partial x_1^2} + a_1 \\frac{\\partial^2 u}{\\partial x_2^2} + F(u, \\frac{\\partial u}{\\partial x_1}, \\frac{\\partial u}{\\partial x_2}, ... )$, \n",
    "<br>\n",
    "в котором помимо исходных слагаемых $\\frac{\\partial^2 u}{\\partial t^2}$, $\\frac{\\partial^2 u}{\\partial x_1^2}$ и $\\frac{\\partial^2 u}{\\partial x_2^2}$, присутствует ещё и слагаемое $F(u, \\frac{\\partial u}{\\partial x_1}, \\frac{\\partial u}{\\partial x_2}, ... )$, в рассматриваемом случае соответствующее исходной функции $u$ из-за присутствия в данных шума. "
   ]
  },
  {
   "cell_type": "code",
   "execution_count": 13,
   "metadata": {},
   "outputs": [
    {
     "name": "stdout",
     "output_type": "stream",
     "text": [
      "Using parameters from grid\n",
      "in \"process cell\" function:  <class 'tuple'> ('1', 'u', 'du/dx1', 'd^2u/dx1^2', 'du/dx2', 'd^2u/dx2^2', 'du/dx3', 'd^2u/dx3^2')\n",
      "[1. 0. 0. 0. 0. 0. 0. 0. 0. 0. 0. 0. 0. 0. 0. 0.] [1. 0. 1. 0. 0. 0. 0. 0. 0. 0. 0. 0. 0. 0. 0. 0.] [1. 0. 0. 0. 0. 0. 1. 0. 0. 0. 0. 0. 1. 0. 0. 0.]\n",
      "Population for evolutionary algorithm initialized\n",
      "Values of main selected parameters:\n",
      "population size: 10 , r_crossover: 0.6 , r_mutation: 0.5\n",
      "Alpha: 0.3\n",
      "Achieved best fitness: 0.0031903655393910203\n",
      "Final gene: [1. 0. 0. 0. 0. 0. 1. 0. 0. 0. 0. 0. 0. 0. 0. 0.]\n",
      "0.0031903655393910203 {'1': 1, 'u': 0, 'du/dx1': 0, 'd^2u/dx1^2': 1, 'du/dx2': 0, 'd^2u/dx2^2': 0, 'du/dx3': 0, 'd^2u/dx3^2': 0}\n",
      "weights: [ 0.         -0.08942311  0.         -0.         -0.        ]\n",
      "result: ((datetime.datetime(2020, 2, 26, 19, 6, 30, 863834), datetime.datetime(2020, 2, 26, 19, 19, 17, 576416)), ({'1': 1, 'u': 0, 'du/dx1': 0, 'd^2u/dx1^2': 1, 'du/dx2': 0, 'd^2u/dx2^2': 0, 'du/dx3': 0, 'd^2u/dx3^2': 0}, [({'1': 1, 'u': 1, 'du/dx1': 0, 'd^2u/dx1^2': 0, 'du/dx2': 0, 'd^2u/dx2^2': 0, 'du/dx3': 0, 'd^2u/dx3^2': 0}, -0.7159795774286367)]))\n"
     ]
    }
   ],
   "source": [
    "Trainer = Equation_Trainer(token_list=token_names, evaluator = derivative_evaluator, \n",
    "                           evaluator_params={'token_matrices':variables})\n",
    "Trainer.Parameters_grid(('alpha', 'a_proc', 'r_crossover', 'r_mutation', 'mut_chance', 'pop_size', 'eq_len'), \n",
    "                        0.3, 0.2, 0.6, 0.5, 1.0, 10, 6)\n",
    "Trainer.Train(epochs = 400)"
   ]
  },
  {
   "cell_type": "markdown",
   "metadata": {},
   "source": [
    "При дальнейшем увеличении коэффициента регуляризации, уравнение теряет значимые слагаемые и принимает вид \n",
    "<br>\n",
    "$\\frac{\\partial^2 u}{\\partial t^2} = u$"
   ]
  },
  {
   "cell_type": "code",
   "execution_count": null,
   "metadata": {},
   "outputs": [],
   "source": []
  }
 ],
 "metadata": {
  "kernelspec": {
   "display_name": "Python 3",
   "language": "python",
   "name": "python3"
  },
  "language_info": {
   "codemirror_mode": {
    "name": "ipython",
    "version": 3
   },
   "file_extension": ".py",
   "mimetype": "text/x-python",
   "name": "python",
   "nbconvert_exporter": "python",
   "pygments_lexer": "ipython3",
   "version": "3.6.8"
  }
 },
 "nbformat": 4,
 "nbformat_minor": 2
}
